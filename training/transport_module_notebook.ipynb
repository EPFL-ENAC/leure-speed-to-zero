{
 "cells": [
  {
   "cell_type": "code",
   "execution_count": 1,
   "id": "9dacc1d1",
   "metadata": {},
   "outputs": [],
   "source": [
    "# packages\n",
    "import pandas as pd\n",
    "\n",
    "# in Spyder, go to PYTHONPATH manager and put the directory containing all files (for me is /Users/echiarot/Documents/GitHub/2050-Calculators/PathwayCalc)\n",
    "# in Jupyter, this should work automatically\n",
    "\n",
    "import pickle\n",
    "import json\n",
    "import os\n",
    "import numpy as np"
   ]
  },
  {
   "cell_type": "code",
   "execution_count": 2,
   "id": "7a206c23",
   "metadata": {},
   "outputs": [],
   "source": [
    "import sys\n",
    "sys.path.append(\"..\")\n",
    "from model.common.data_matrix_class import DataMatrix\n",
    "from model.common.constant_data_matrix_class import ConstantDataMatrix\n",
    "from model.common.io_database import read_database, read_database_fxa\n",
    "from model.common.auxiliary_functions import compute_stock, read_database_to_ots_fts_dict, filter_geoscale, read_level_data\n",
    "# from model.transport_module import compute_fts_tech_split, add_biofuel_efuel, rename_and_group"
   ]
  },
  {
   "cell_type": "code",
   "execution_count": 3,
   "id": "272d69f5",
   "metadata": {},
   "outputs": [],
   "source": [
    "from model.transport_module import compute_fts_tech_split, add_biofuel_efuel, rename_and_group"
   ]
  },
  {
   "cell_type": "code",
   "execution_count": null,
   "id": "1f7aecaf",
   "metadata": {},
   "outputs": [],
   "source": [
    "# os.getcwd()\n",
    "current_file_directory = os.path.abspath(\"\")"
   ]
  },
  {
   "cell_type": "markdown",
   "id": "29a6286f",
   "metadata": {},
   "source": [
    "# Contents\n",
    "\n",
    "- [Load Transport Data](#Load-Transport-Data)\n",
    "    - [Fixed Assumptions](#Fixed-Assumptions)\n",
    "    - [Levers](#Levers)\n",
    "    - [Constants](#Constants)\n",
    "- [Core Transport Module](#Core-Transport-Module)\n",
    "    - [Passenger](#Passenger)\n",
    "    - [Freight](#Freight)\n",
    "    - [Output for TPE](#Output-for-TPE)"
   ]
  },
  {
   "cell_type": "markdown",
   "id": "3c8a49ff",
   "metadata": {},
   "source": [
    "# Load Transport Data <a class=\"anchor\" id=\"Load-Transport-Data\"></a>"
   ]
  },
  {
   "cell_type": "markdown",
   "id": "b37e7752",
   "metadata": {},
   "source": [
    "Here the goal is to make the pickle with all the datamatrixes inside. In `transport_module.py`, the code that follows is in `database_from_csv_to_datamatrix()`, defined as a function without arguments. This function runs the code and saves the pickle (it will not be used as a function later on). Using a function without arguments is just a way to embed in a function a piece of code that needs to run."
   ]
  },
  {
   "cell_type": "code",
   "execution_count": null,
   "id": "24f0133d",
   "metadata": {},
   "outputs": [],
   "source": [
    "# Read database\n",
    "\n",
    "# Set years range\n",
    "years_setting = [1990, 2015, 2050, 5]\n",
    "startyear = years_setting[0]\n",
    "baseyear = years_setting[1]\n",
    "lastyear = years_setting[2]\n",
    "step_fts = years_setting[3]\n",
    "years_ots = list(np.linspace(start=startyear, stop=baseyear, num=(baseyear-startyear)+1).astype(int)) # make list with years from 1990 to 2015\n",
    "years_fts = list(np.linspace(start=baseyear+step_fts, stop=lastyear, num=int((lastyear-baseyear)/step_fts)).astype(int)) # make list with years from 2020 to 2050 (steps of 5 years)\n",
    "years_all = years_ots + years_fts"
   ]
  },
  {
   "cell_type": "markdown",
   "id": "efa9e504",
   "metadata": {},
   "source": [
    "## Fixed Assumptions <a class=\"anchor\" id=\"Fixed-Assumptions\"></a>"
   ]
  },
  {
   "cell_type": "markdown",
   "id": "eb5ef1e1",
   "metadata": {},
   "source": [
    "Load FXA:"
   ]
  },
  {
   "cell_type": "code",
   "execution_count": null,
   "id": "b459ca79",
   "metadata": {},
   "outputs": [],
   "source": [
    "# Read fixed assumptions to datamatrix\n",
    "df = read_database_fxa('transport_fixed-assumptions')\n",
    "dm = DataMatrix.create_from_df(df, num_cat=0) # this is a 3 dimensional arrays for the fixed assumptions in transport"
   ]
  },
  {
   "cell_type": "markdown",
   "id": "763b1ad7",
   "metadata": {},
   "source": [
    "### For training: explore this datamatrix."
   ]
  },
  {
   "cell_type": "code",
   "execution_count": null,
   "id": "f169b22a",
   "metadata": {},
   "outputs": [],
   "source": [
    "# print(dm.dim_labels) # list: the 3 dimensions, i.e. country, years and variables"
   ]
  },
  {
   "cell_type": "code",
   "execution_count": null,
   "id": "6e78c7ad",
   "metadata": {},
   "outputs": [],
   "source": [
    "# print(dm.col_labels) # dictionary: the columns in each dimension"
   ]
  },
  {
   "cell_type": "code",
   "execution_count": null,
   "id": "a0a21eb2",
   "metadata": {},
   "outputs": [],
   "source": [
    "# print(dm.idx) # dictionary: the indexes assigned to coilumns in each of the 3 dimensions"
   ]
  },
  {
   "cell_type": "code",
   "execution_count": null,
   "id": "682d5b6d",
   "metadata": {},
   "outputs": [],
   "source": [
    "# print(dm.units) # dictionary: the units of columns in each of the 3 dimensions"
   ]
  },
  {
   "cell_type": "code",
   "execution_count": null,
   "id": "8d0f186e",
   "metadata": {},
   "outputs": [],
   "source": [
    "print(dm.array) # array: the data"
   ]
  },
  {
   "cell_type": "code",
   "execution_count": null,
   "id": "617215c5",
   "metadata": {},
   "outputs": [],
   "source": [
    "print(dm.array.shape) # this is the size of the array (32 countries for 33 years for 139 variables)"
   ]
  },
  {
   "cell_type": "markdown",
   "id": "3498a5eb",
   "metadata": {},
   "source": [
    "Check Austria 1990 'tra_freight_length_rails':"
   ]
  },
  {
   "cell_type": "code",
   "execution_count": null,
   "id": "8f81aa97",
   "metadata": {},
   "outputs": [],
   "source": [
    "dm.array[0,0,0]"
   ]
  },
  {
   "cell_type": "markdown",
   "id": "bf347314",
   "metadata": {},
   "source": [
    "Same just with indexes:"
   ]
  },
  {
   "cell_type": "code",
   "execution_count": null,
   "id": "cafbb7d4",
   "metadata": {},
   "outputs": [],
   "source": [
    "idx = dm.idx\n",
    "dm.array[(idx['Austria']), idx[1990], idx[\"tra_freight_length_rails\"]] # yes"
   ]
  },
  {
   "cell_type": "markdown",
   "id": "c2703b5e",
   "metadata": {},
   "source": [
    "And if we want to see also France:"
   ]
  },
  {
   "cell_type": "code",
   "execution_count": null,
   "id": "1ddc9a3c",
   "metadata": {},
   "outputs": [],
   "source": [
    "\n",
    "dm.array[(idx['Austria'],idx['France']), idx[1990], idx[\"tra_freight_length_rails\"]] # yes"
   ]
  },
  {
   "cell_type": "markdown",
   "id": "cf884486",
   "metadata": {},
   "source": [
    "We can get tra_freight_length_rails for all countries and years as a matrix with countries for rows (32) and years for columns (33)."
   ]
  },
  {
   "cell_type": "code",
   "execution_count": null,
   "id": "62334b6e",
   "metadata": {},
   "outputs": [],
   "source": [
    "dm.array[:,:,idx[\"tra_freight_length_rails\"]]\n",
    "dm.array[:,:,idx[\"tra_freight_length_rails\"]].shape"
   ]
  },
  {
   "cell_type": "markdown",
   "id": "c9d75595",
   "metadata": {},
   "source": [
    "Let's get back to the code of fixed assumptions:"
   ]
  },
  {
   "cell_type": "code",
   "execution_count": null,
   "id": "c2af6358",
   "metadata": {},
   "outputs": [],
   "source": [
    "# Keep only ots and fts years\n",
    "dm = dm.filter(selected_cols={'Years': years_all})\n",
    "dm.array.shape\n",
    "\n",
    "# make data matrixes with specific data using regular expression (regex)\n",
    "dm_freight_tech = dm.filter_w_regex({'Variables': 'tra_freight_technology-share.*|tra_freight_vehicle-efficiency.*'})\n",
    "dm_passenger_tech = dm.filter_w_regex({'Variables': 'tra_passenger_technology-share.*|tra_passenger_veh-efficiency_fleet.*'})\n",
    "dm_passenger_mode_road = dm.filter_w_regex({'Variables': 'tra_passenger_vehicle-lifetime.*'})\n",
    "dm_passenger_mode_other = dm.filter_w_regex({'Variables': 'tra_passenger_avg-pkm-by-veh.*|tra_passenger_renewal-rate.*'})\n",
    "dm_freight_mode_other = dm.filter_w_regex({'Variables': 'tra_freight_tkm-by-veh.*|tra_freight_renewal-rate.*'})\n",
    "dm_freight_mode_road = dm.filter_w_regex({'Variables': 'tra_freight_lifetime.*'})\n",
    "\n",
    "# Add metrotram to passenger_tech\n",
    "metrotram_tech = np.ones((dm_passenger_tech.array.shape[0], dm_passenger_tech.array.shape[1]))\n",
    "metrotram_tech.shape # array 32 by 33 (rows are for countries and cols are for years)\n",
    "dm_passenger_tech.add(metrotram_tech, dim=\"Variables\", col_label='tra_passenger_technology-share_fleet_metrotram_mt', unit='%')\n",
    "dm_passenger_tech.rename_col(col_in='tra_passenger_veh-efficiency_fleet_metrotram',\n",
    "                             col_out='tra_passenger_veh-efficiency_fleet_metrotram_mt', dim='Variables')\n",
    "dm_passenger_tech.col_labels[\"Variables\"] # check variables names ... personal note: the row above is useless in theory and can be dropped\n",
    "\n",
    "# Add dimensions\n",
    "dm_freight_tech.array.shape # array: (32 x 33 x 68)\n",
    "dm_freight_tech.col_labels[\"Variables\"]\n",
    "dm_freight_tech.deepen_twice()\n",
    "dm_freight_tech.array.shape # array: (32 x 33 x 2 x 7 x 9)\n",
    "dm_freight_tech.col_labels # so this is the same datamatrix, just we have split the variables in subsets following their names\n",
    "idx = dm_freight_tech.idx\n",
    "dm_freight_tech.array[idx[\"Austria\"],idx[1990],idx[\"tra_freight_vehicle-efficiency_fleet\"],\n",
    "                      idx[\"HDVH\"], idx[\"PHEV-diesel\"]] # this is the value for austria 1990 for the variable tra_freight_vehicle-efficiency_fleet_HDVH_PHEV-diesel\n",
    "\n",
    "dm_passenger_tech.deepen_twice()\n",
    "dm_passenger_mode_road.deepen()\n",
    "dm_passenger_mode_other.deepen()\n",
    "dm_freight_mode_other.deepen()\n",
    "dm_freight_mode_road.deepen()\n",
    "\n",
    "dict_fxa = {\n",
    "    'freight_tech': dm_freight_tech,\n",
    "    'passenger_tech': dm_passenger_tech,\n",
    "    'passenger_mode_road': dm_passenger_mode_road,\n",
    "    'passenger_mode_other': dm_passenger_mode_other,\n",
    "    'freight_mode_other': dm_freight_mode_other,\n",
    "    'freight_mode_road': dm_freight_mode_road\n",
    "}"
   ]
  },
  {
   "cell_type": "markdown",
   "id": "bf35adee",
   "metadata": {},
   "source": [
    "## Levers <a class=\"anchor\" id=\"Levers\"></a>"
   ]
  },
  {
   "cell_type": "markdown",
   "id": "e8bda5f6",
   "metadata": {},
   "source": [
    "Load levers:"
   ]
  },
  {
   "cell_type": "code",
   "execution_count": null,
   "id": "563d1ad2",
   "metadata": {},
   "outputs": [],
   "source": [
    "dict_ots = {}\n",
    "dict_fts = {}\n",
    "\n",
    "# Read passenger levers\n",
    "file = 'transport_passenger-aviation-pkm'\n",
    "lever = 'passenger-aviation-pkm'\n",
    "# dm_passenger_aviation\n",
    "dict_ots, dict_fts = read_database_to_ots_fts_dict(file, lever, num_cat=1, baseyear=baseyear,\n",
    "                                                   years=years_all, dict_ots=dict_ots, dict_fts=dict_fts)\n",
    "\n",
    "type(dict_ots[\"passenger-aviation-pkm\"]) # datamatrix put inside a dictionary for original time series\n",
    "dict_ots[\"passenger-aviation-pkm\"].array.shape # (32, 26, 1, 1)\n",
    "dict_ots[\"passenger-aviation-pkm\"].dim_labels # ['Country', 'Years', 'Variables', 'Categories1'], here there is already categories1 as we have specified that in read_database_to_ots_fts_dict()\n",
    "\n",
    "\n",
    "# Read passenger efficiency\n",
    "file = 'transport_passenger-efficiency'\n",
    "lever = 'passenger_veh-efficiency_new'\n",
    "df_ots, df_fts = read_database(file, lever, level='all')\n",
    "df_ots.columns = df_ots.columns.str.replace('MJ/pkm', 'MJ/km')\n",
    "df_fts.columns = df_fts.columns.str.replace('MJ/pkm', 'MJ/km')\n",
    "df_ots.columns = df_ots.columns.str.replace('metrotram', 'metrotram_mt')\n",
    "df_fts.columns = df_fts.columns.str.replace('metrotram', 'metrotram_mt')\n",
    "dict_ots, dict_fts = read_database_to_ots_fts_dict(file, lever, num_cat=2, baseyear=baseyear, years=years_all,\n",
    "                                                   dict_ots=dict_ots, dict_fts=dict_fts, df_ots=df_ots, df_fts=df_fts) # here you have 2 categories ... and note that we are adding this new databases in the dictionaries, and we will do this for any new database\n",
    "\n",
    "# Read passenger modal split urban rural\n",
    "file = 'transport_passenger-modal-split'\n",
    "lever = 'passenger_modal-share'\n",
    "dict_ots, dict_fts = read_database_to_ots_fts_dict(file, lever, num_cat=2, baseyear=baseyear,\n",
    "                                                   years=years_all, dict_ots=dict_ots, dict_fts=dict_fts)\n",
    "\n",
    "# Read passenger occupancy\n",
    "file = 'transport_passenger-occupancy'\n",
    "lever = 'passenger_occupancy'\n",
    "# dm_passenger_occupancy\n",
    "dict_ots, dict_fts = read_database_to_ots_fts_dict(file, lever, num_cat=1, baseyear=baseyear,\n",
    "                                                   years=years_all, dict_ots=dict_ots, dict_fts=dict_fts)\n",
    "\n",
    "# Read passenger technology split\n",
    "file = 'transport_passenger-technology-split'\n",
    "lever = 'passenger_technology-share_new'\n",
    "df_ots, df_fts = read_database(file, lever, level='all')\n",
    "df_ots['tra_passenger_technology-share_new_metrotram_mt[%]'] = 1\n",
    "df_fts['tra_passenger_technology-share_new_metrotram_mt[%]'] = 1\n",
    "dict_ots, dict_fts = read_database_to_ots_fts_dict(file, lever, num_cat=2, baseyear=baseyear, years=years_all,\n",
    "                                                   dict_ots=dict_ots, dict_fts=dict_fts, df_ots=df_ots, df_fts=df_fts)\n",
    "\n",
    "# Read passenger use rate\n",
    "file = 'transport_passenger-use-rate'\n",
    "lever = 'passenger_utilization-rate'\n",
    "dict_ots, dict_fts = read_database_to_ots_fts_dict(file, lever, num_cat=1, baseyear=baseyear,\n",
    "                                                   years=years_all, dict_ots=dict_ots, dict_fts=dict_fts)\n",
    "\n",
    "# Read freight levers\n",
    "# Efficiency\n",
    "file = 'transport_freight-efficiency'\n",
    "lever = 'freight_vehicle-efficiency_new'\n",
    "df_ots, df_fts = read_database(file, lever, level='all')\n",
    "df_ots.columns = df_ots.columns.str.replace('tkm', 'km')\n",
    "df_fts.columns = df_fts.columns.str.replace('tkm', 'km')\n",
    "dict_ots, dict_fts = read_database_to_ots_fts_dict(file, lever, num_cat=2, baseyear=baseyear, years=years_all,\n",
    "                                                   dict_ots=dict_ots, dict_fts=dict_fts, df_ots=df_ots, df_fts=df_fts)\n",
    "\n",
    "# Load factors & utilisation rate\n",
    "file = 'transport_freight-load-factor'\n",
    "lever_1 = 'freight_load-factor'\n",
    "lever = 'freight_utilization-rate'\n",
    "# there is a problem with the lever name in the original file\n",
    "# !FIXME this should be merged with freight use-rate\n",
    "df_ots, df_fts = read_database(file, lever_1, level='all')\n",
    "df_ots.rename(columns={lever_1: lever}, inplace=True)\n",
    "df_fts.rename(columns={lever_1: lever}, inplace=True)\n",
    "df_ots_2, df_fts_2 = read_database('transport_freight-use-rate', lever, level='all')\n",
    "df_ots = df_ots.merge(df_ots_2, on=['Country', 'Years', lever])\n",
    "df_fts = df_fts.merge(df_fts_2, on=['Country', 'Years', lever])\n",
    "dict_ots, dict_fts = read_database_to_ots_fts_dict(file, lever, num_cat=1, baseyear=baseyear, years=years_all,\n",
    "                                                   dict_ots=dict_ots, dict_fts=dict_fts, df_ots=df_ots, df_fts=df_fts)\n",
    "\n",
    "# Modal split\n",
    "file = 'transport_freight-modal-split'\n",
    "lever = 'freight_modal-share'\n",
    "dict_ots, dict_fts = read_database_to_ots_fts_dict(file, lever, num_cat=1, baseyear=baseyear, years=years_all,\n",
    "                                                   dict_ots=dict_ots, dict_fts=dict_fts)\n",
    "\n",
    "# Technology split\n",
    "file = 'transport_freight-technology-split'\n",
    "lever = 'freight_technology-share_new'\n",
    "dict_ots, dict_fts = read_database_to_ots_fts_dict(file, lever, num_cat=2, baseyear=baseyear, years=years_all,\n",
    "                                                   dict_ots=dict_ots, dict_fts=dict_fts)\n",
    "\n",
    "# Volume\n",
    "file = 'transport_freight-volume'\n",
    "lever = 'freight_tkm'\n",
    "dict_ots, dict_fts = read_database_to_ots_fts_dict(file, lever, num_cat=0, baseyear=baseyear, years=years_all,\n",
    "                                                   dict_ots=dict_ots, dict_fts=dict_fts)\n",
    "\n",
    "# Read fuel mix for efuel and biofuels\n",
    "fuels = ['biofuels', 'efuel']\n",
    "mode = ['marine', 'road', 'aviation']\n",
    "lever = 'fuel-mix'\n",
    "i = 0\n",
    "for f in fuels:\n",
    "    for m in mode:\n",
    "        file = 'transport_fuel-mix-' + m + '-' + f\n",
    "        if f == 'biofuels':\n",
    "            f = 'biofuel'\n",
    "        lever_i = 'fuel-mix_' + f + '-' + m\n",
    "        df_ots_i, df_fts_i = read_database(file, lever_i, level='all')\n",
    "        df_ots_i.rename(columns={lever_i: lever}, inplace=True)\n",
    "        df_fts_i.rename(columns={lever_i: lever}, inplace=True)\n",
    "        df_ots_i.columns = df_ots_i.columns.str.replace('biofuel-', 'biofuel_')\n",
    "        df_ots_i.columns = df_ots_i.columns.str.replace('efuel-', 'efuel_')\n",
    "        df_fts_i.columns = df_fts_i.columns.str.replace('biofuel-', 'biofuel_')\n",
    "        df_fts_i.columns = df_fts_i.columns.str.replace('efuel-', 'efuel_')\n",
    "        if i == 0:\n",
    "            df_ots = df_ots_i\n",
    "            df_fts = df_fts_i\n",
    "        else:\n",
    "            df_ots = df_ots.merge(df_ots_i, on=['Country', 'Years', lever])\n",
    "            df_fts = df_fts.merge(df_fts_i, on=['Country', 'Years', lever])\n",
    "        if f == 'biofuel':\n",
    "            f = 'biofuels'\n",
    "        i = i + 1\n",
    "dict_ots, dict_fts = read_database_to_ots_fts_dict(file, lever, num_cat=2, baseyear=baseyear, years=years_all,\n",
    "                                                   dict_ots=dict_ots, dict_fts=dict_fts, df_ots=df_ots, df_fts=df_fts)"
   ]
  },
  {
   "cell_type": "markdown",
   "id": "1f23dcff",
   "metadata": {},
   "source": [
    "## Constants <a class=\"anchor\" id=\"Constants\"></a>"
   ]
  },
  {
   "cell_type": "markdown",
   "id": "0592d809",
   "metadata": {},
   "source": [
    "Load constants:"
   ]
  },
  {
   "cell_type": "code",
   "execution_count": null,
   "id": "7e32bbf6",
   "metadata": {},
   "outputs": [],
   "source": [
    "cdm_const = ConstantDataMatrix.extract_constant('interactions_constants', pattern='cp_tra_emission-factor.*', num_cat=2)"
   ]
  },
  {
   "cell_type": "markdown",
   "id": "649499b9",
   "metadata": {},
   "source": [
    "Save all:"
   ]
  },
  {
   "cell_type": "code",
   "execution_count": null,
   "id": "8e49c0b2",
   "metadata": {},
   "outputs": [],
   "source": [
    "DM_transport = {\n",
    "    'fxa': dict_fxa,\n",
    "    'fts': dict_fts,\n",
    "    'ots': dict_ots,\n",
    "    'constant': cdm_const\n",
    "}\n",
    "f = os.path.join(current_file_directory, '../_database/data/datamatrix/transport.pickle')\n",
    "with open(f, 'wb') as handle:\n",
    "    pickle.dump(DM_transport, handle, protocol=pickle.HIGHEST_PROTOCOL)"
   ]
  },
  {
   "cell_type": "markdown",
   "id": "7133bc52",
   "metadata": {},
   "source": [
    "# Core Transport Module <a class=\"anchor\" id=\"Core-Transport-Module\"></a>"
   ]
  },
  {
   "cell_type": "markdown",
   "id": "c4de7dad",
   "metadata": {},
   "source": [
    "Here we follow the flow of the functions in the file `model/transport_module.py`."
   ]
  },
  {
   "cell_type": "markdown",
   "id": "98624b13",
   "metadata": {},
   "source": [
    "In `transport_module.py`, the function `local_transport_run()` runs the function `transport(lever_setting, years_setting)`. This function does not have arguments and it is solely used to run code."
   ]
  },
  {
   "cell_type": "code",
   "execution_count": null,
   "id": "ab6fe022",
   "metadata": {},
   "outputs": [],
   "source": [
    "# set years\n",
    "years_setting = [1990, 2015, 2050, 5]\n",
    "\n",
    "# load lever setting\n",
    "lever_setting_file = os.path.join(current_file_directory, '../config/lever_position.json')\n",
    "f = open(lever_setting_file)\n",
    "lever_setting = json.load(f)[0]\n",
    "\n",
    "# # select countries\n",
    "# global_vars = {'geoscale': 'Switzerland'}\n",
    "# filter_geoscale(global_vars)"
   ]
  },
  {
   "cell_type": "markdown",
   "id": "d7f7f3c0",
   "metadata": {},
   "source": [
    "Note that to work with a subset of countries, you need to comment out global_vars and filter_geoscale above. In this example we work with all countries."
   ]
  },
  {
   "cell_type": "markdown",
   "id": "a137602c",
   "metadata": {},
   "source": [
    "In `transport_module.py`, the function `transport(lever_setting, years_setting)` is used in `local_transport_run()` to run the transport module"
   ]
  },
  {
   "cell_type": "markdown",
   "id": "bc7371fe",
   "metadata": {},
   "source": [
    "In `transport_module.py`, the function `read_data(data_file, lever_setting)` is used in `transport(lever_setting, years_setting)` to read the data in the pickle. It does the following:"
   ]
  },
  {
   "cell_type": "code",
   "execution_count": null,
   "id": "203f4518",
   "metadata": {},
   "outputs": [],
   "source": [
    "# load datamatrixes\n",
    "transport_data_file = os.path.join(current_file_directory, '../_database/data/datamatrix/transport.pickle')\n",
    "with open(transport_data_file, 'rb') as handle:\n",
    "    DM_transport = pickle.load(handle)\n",
    "\n",
    "# get fixed assumptions\n",
    "dict_fxa = DM_transport['fxa']\n",
    "dm_freight_tech = dict_fxa['freight_tech']\n",
    "dm_passenger_tech = dict_fxa['passenger_tech']\n",
    "dm_passenger_mode_road = dict_fxa['passenger_mode_road']\n",
    "dm_passenger_mode_other = dict_fxa['passenger_mode_other']\n",
    "dm_freight_mode_other = dict_fxa['freight_mode_other']\n",
    "dm_freight_mode_road = dict_fxa['freight_mode_road']\n",
    "\n",
    "# Read fts based on lever_setting\n",
    "DM_ots_fts = read_level_data(DM_transport, lever_setting)\n",
    "\n",
    "\n",
    "# PASSENGER\n",
    "dm_passenger_aviation = DM_ots_fts['passenger-aviation-pkm']\n",
    "dm_passenger_tech.append(DM_ots_fts['passenger_veh-efficiency_new'], dim='Variables')\n",
    "dm_passenger_tech.append(DM_ots_fts['passenger_technology-share_new'], dim='Variables')\n",
    "dm_passenger_modal = DM_ots_fts['passenger_modal-share']\n",
    "dm_passenger_mode_road.append(DM_ots_fts['passenger_occupancy'], dim='Variables')\n",
    "dm_passenger_mode_road.append(DM_ots_fts['passenger_utilization-rate'], dim='Variables')\n",
    "\n",
    "# FREIGHT\n",
    "dm_freight_tech.append(DM_ots_fts['freight_vehicle-efficiency_new'], dim='Variables')\n",
    "dm_freight_tech.append(DM_ots_fts['freight_technology-share_new'], dim='Variables')\n",
    "dm_freight_mode_road.append(DM_ots_fts['freight_utilization-rate'], dim='Variables')\n",
    "dm_freight_modal_share = DM_ots_fts['freight_modal-share']\n",
    "dm_freight_demand = DM_ots_fts['freight_tkm']\n",
    "\n",
    "# OTHER\n",
    "dm_fuels = DM_ots_fts['fuel-mix']\n",
    "\n",
    "DM_passenger = {\n",
    "    'passenger_tech': dm_passenger_tech,\n",
    "    'passenger_mode_other': dm_passenger_mode_other,\n",
    "    'passenger_aviation': dm_passenger_aviation,\n",
    "    'passenger_modal_split': dm_passenger_modal,\n",
    "    'passenger_mode_road': dm_passenger_mode_road\n",
    "    }\n",
    "\n",
    "DM_freight = {\n",
    "    'freight_tech': dm_freight_tech,\n",
    "    'freight_mode_other': dm_freight_mode_other,\n",
    "    'freight_mode_road': dm_freight_mode_road,\n",
    "    'freight_demand': dm_freight_demand,\n",
    "    'freight_modal_split': dm_freight_modal_share\n",
    "}\n",
    "\n",
    "DM_other = {\n",
    "    'fuels': dm_fuels\n",
    "}\n",
    "\n",
    "cdm_const = DM_transport['constant']"
   ]
  },
  {
   "cell_type": "code",
   "execution_count": null,
   "id": "c1a00066",
   "metadata": {},
   "outputs": [],
   "source": [
    "# get countries\n",
    "cntr_list = DM_passenger['passenger_modal_split'].col_labels['Country']"
   ]
  },
  {
   "cell_type": "markdown",
   "id": "43ac2d9a",
   "metadata": {},
   "source": [
    "In `transport_module.py`, the function `simulate_lifestyles_input()` is used in `transport(lever_setting, years_setting)` to make the fake interface data from lifestyle. This function does not have arguments and it is solely used to run code. It does the following:"
   ]
  },
  {
   "cell_type": "code",
   "execution_count": null,
   "id": "1af70b51",
   "metadata": {},
   "outputs": [],
   "source": [
    "# Read input from lifestyle\n",
    "f = os.path.join(current_file_directory, \"../_database/data/xls/All-Countries-interface_from-lifestyles-to-transport.xlsx\")\n",
    "df = pd.read_excel(f, sheet_name=\"default\")\n",
    "dm = DataMatrix.create_from_df(df, num_cat=0) # dimensions (32, 33, 3)\n",
    "\n",
    "# get population and passenger demand\n",
    "dm_pop = dm.filter_w_regex({'Variables': 'lfs_pop.*'})\n",
    "dm_passenger_demand = dm.filter_w_regex({'Variables': 'lfs_passenger-travel-demand.*'}) # dimensions (32, 33, 2)\n",
    "dm_passenger_demand.deepen() # dimensions (32, 33, 1, 2)\n",
    "\n",
    "# save\n",
    "DM_lfs = {\n",
    "    'lfs_pop': dm_pop,\n",
    "    'lfs_passenger_demand': dm_passenger_demand\n",
    "}"
   ]
  },
  {
   "cell_type": "code",
   "execution_count": null,
   "id": "91251c20",
   "metadata": {},
   "outputs": [],
   "source": [
    "# for lifestyle interfaces, keep only the countries in cntr_list\n",
    "for key in DM_lfs.keys():\n",
    "    DM_lfs[key] = DM_lfs[key].filter({'Country': cntr_list})"
   ]
  },
  {
   "cell_type": "markdown",
   "id": "b29c3c09",
   "metadata": {},
   "source": [
    "## Passenger <a class=\"anchor\" id=\"Passenger\"></a>"
   ]
  },
  {
   "cell_type": "code",
   "execution_count": null,
   "id": "89a3906c",
   "metadata": {},
   "outputs": [],
   "source": [
    "# make datamatrix for constants for passenger\n",
    "cdm_const_passenger = cdm_const.copy()"
   ]
  },
  {
   "cell_type": "markdown",
   "id": "09758130",
   "metadata": {},
   "source": [
    "In `transport_module.py`, the function `passenger_fleet_energy(DM_passenger, DM_lfs, DM_other, cdm_const, years_setting)` is used in `transport(lever_setting, years_setting)` to compute the energy demand for the passenger fleet."
   ]
  },
  {
   "cell_type": "code",
   "execution_count": null,
   "id": "2d1074c3",
   "metadata": {},
   "outputs": [],
   "source": [
    "# get datamatrixes for modal split and passenger demand\n",
    "dm_modal_split = DM_passenger['passenger_modal_split']\n",
    "dm_lfs_demand = DM_lfs['lfs_passenger_demand']"
   ]
  },
  {
   "cell_type": "markdown",
   "id": "de530abf",
   "metadata": {},
   "source": [
    "In `transport_module.py`, the function `compute_pkm_demand(modal_split, urb_nonurb_demand)` is used in `passenger_fleet_energy()` to make the datamatrix for demand in pkm by multiplying the modal split for urban and non urban by the demand from lifestyle. It does the following:"
   ]
  },
  {
   "cell_type": "code",
   "execution_count": null,
   "id": "e471dc5d",
   "metadata": {},
   "outputs": [],
   "source": [
    "# rename modal split and lfs demand as function arguments\n",
    "modal_split = dm_modal_split\n",
    "urb_nonurb_demand = dm_lfs_demand\n",
    "\n",
    "# get indexes to index urb_nonurb_demand and modal_split\n",
    "idx_d = urb_nonurb_demand.idx\n",
    "idx_m = modal_split.idx\n",
    "\n",
    "# get the demand in pkm\n",
    "# multiply values for all countries, years, and variables (just in this case), for non-urban demand with values for all countries, years and variables for nonurban modal split. Do the same for urban.\n",
    "# Note that we do this manually and not with the operation() function as we are multiplying 2 different arrays (if we multiplied elements of the same array, we could have used operation()).\n",
    "# Note that urb_nonurb_demand.array[:, :, :, idx_d['non-urban']] would have shape (32, 33, 1), while urb_nonurb_demand.array[:, :, :, idx_d['non-urban'], np.newaxis] allows to have shape (32, 33, 1, 1).\n",
    "tmp_nonurb = urb_nonurb_demand.array[:, :, :, idx_d['non-urban'], np.newaxis] * \\\n",
    "             modal_split.array[:, :, :, idx_m['nonurban'], :]\n",
    "tmp_urb = urb_nonurb_demand.array[:, :, :, idx_d['urban'], np.newaxis] * \\\n",
    "          modal_split.array[:, :, :, idx_m['urban'], :]\n",
    "tmp_demand = tmp_nonurb + tmp_urb\n",
    "\n",
    "# save the demand in pkm in datamatrix\n",
    "cols = {\n",
    "    'Country': modal_split.col_labels['Country'].copy(),\n",
    "    'Years': modal_split.col_labels['Years'].copy(),\n",
    "    'Variables': ['tra_passenger_transport-demand'],\n",
    "    'Categories1': modal_split.col_labels['Categories2'].copy()\n",
    "}\n",
    "demand = DataMatrix(col_labels=cols, units={'tra_passenger_transport-demand': 'pkm'})\n",
    "demand.array = tmp_demand\n",
    "dm_demand_by_mode = demand"
   ]
  },
  {
   "cell_type": "markdown",
   "id": "9777a544",
   "metadata": {},
   "source": [
    "Let's continue on with the operations to get the energy demand from the passenger fleet:"
   ]
  },
  {
   "cell_type": "code",
   "execution_count": null,
   "id": "8d33fa32",
   "metadata": {},
   "outputs": [],
   "source": [
    "# delete some datamatrices\n",
    "del dm_modal_split, dm_lfs_demand, modal_split, urb_nonurb_demand, demand\n",
    "\n",
    "# Remove walking and biking\n",
    "dm_demand_by_mode.drop(dim='Categories1', col_label='walk|bike')\n",
    "\n",
    "# Aviation pkm\n",
    "# demand_aviation [pkm] = demand aviation [pkm/cap] * pop\n",
    "dm_aviation_pkm = DM_passenger['passenger_aviation']\n",
    "dm_pop = DM_lfs['lfs_pop']\n",
    "tmp_aviation = dm_aviation_pkm.array[..., 0] * dm_pop.array[...]\n",
    "dm_demand_by_mode.add(tmp_aviation, dim='Categories1', col_label='aviation')\n",
    "del dm_aviation_pkm, tmp_aviation\n",
    "\n",
    "# Split between road and other passenger transport data\n",
    "dm_demand_road = dm_demand_by_mode.filter_w_regex(dict_dim_pattern={'Categories1': 'LDV|bus|2W'})\n",
    "dm_demand_other = dm_demand_by_mode.filter_w_regex(dict_dim_pattern={'Categories1': 'aviation|metrotram|rail'})\n",
    "\n",
    "dm_road = DM_passenger['passenger_mode_road']\n",
    "dm_road.append(dm_demand_road, dim='Variables')\n",
    "del dm_demand_road, dm_demand_by_mode\n",
    "\n",
    "# demand [vkm] = demand [pkm] / occupancy [pkm/vkm]\n",
    "dm_road.operation('tra_passenger_transport-demand', '/', 'tra_passenger_occupancy',\n",
    "                  dim=\"Variables\", out_col='tra_passenger_transport-demand-vkm', unit='vkm', div0=\"error\")\n",
    "# vehicle-fleet [number] = demand [vkm] / utilisation-rate [vkm/veh/year]\n",
    "dm_road.operation('tra_passenger_transport-demand-vkm', '/', 'tra_passenger_utilisation-rate',\n",
    "                  dim=\"Variables\", out_col='tra_passenger_vehicle-fleet', unit='number', div0=\"error\", type=int)\n",
    "# renewal-rate [%] = utilisation-rate [vkm/veh/year] /  vehicle-lifetime [years]\n",
    "dm_road.operation('tra_passenger_utilisation-rate', '/', 'tra_passenger_vehicle-lifetime',\n",
    "                  dim=\"Variables\", out_col='tra_passenger_renewal-rate', unit='%', div0=\"error\")\n",
    "\n",
    "dm_other = DM_passenger['passenger_mode_other']\n",
    "dm_other.append(dm_demand_other, dim='Variables')\n",
    "del dm_demand_other\n",
    "\n",
    "# vehicle-fleet[number] = demand [pkm] / avg-pkm-by-veh [pkm/veh]\n",
    "dm_other.operation('tra_passenger_transport-demand', '/', 'tra_passenger_avg-pkm-by-veh',\n",
    "                   dim=\"Variables\", out_col='tra_passenger_vehicle-fleet', unit='number', div0=\"error\", type=int)\n",
    "\n",
    "# Compute vehicle waste and new vehicles for both road and other\n",
    "dm_other_tmp = dm_other.filter_w_regex(dict_dim_pattern={'Variables': '.*vehicle-fleet|.*renewal-rate'})\n",
    "dm_mode = dm_road.filter_w_regex(dict_dim_pattern={'Variables': '.*vehicle-fleet|.*renewal-rate'})\n",
    "dm_other.drop(dim='Variables', col_label='.*vehicle-fleet|.*renewal-rate')\n",
    "dm_road.drop(dim='Variables', col_label='.*vehicle-fleet|.*renewal-rate')\n",
    "\n",
    "dm_mode.append(dm_other_tmp, dim='Categories1')\n",
    "del dm_other_tmp\n",
    "\n",
    "dm_mode.sort(dim='Categories1')\n",
    "compute_stock(dm_mode, 'tra_passenger_renewal-rate', 'tra_passenger_vehicle-fleet',\n",
    "              waste_col='tra_passenger_vehicle-waste', new_col='tra_passenger_new-vehicles')\n",
    "\n",
    "# Compute fleet by technology type\n",
    "dm_tech = DM_passenger['passenger_tech']\n",
    "idx_t = dm_tech.index_all()\n",
    "idx_m = dm_mode.index_all()\n",
    "tmp_1 = dm_tech.array[:, :, idx_t['tra_passenger_technology-share_fleet'], :, :] \\\n",
    "        * dm_mode.array[:, :, idx_m['tra_passenger_vehicle-fleet'], :, np.newaxis]\n",
    "tmp_2 = dm_tech.array[:, :, idx_t['tra_passenger_technology-share_fleet'], :, :] \\\n",
    "        * dm_mode.array[:, :, idx_m['tra_passenger_vehicle-waste'], :, np.newaxis]\n",
    "tmp_3 = dm_tech.array[:, :, idx_t['tra_passenger_technology-share_new'], :, :] \\\n",
    "        * dm_mode.array[:, :, idx_m['tra_passenger_new-vehicles'], :, np.newaxis]\n",
    "dm_tech.add(tmp_1, col_label='tra_passenger_vehicle-fleet', dim='Variables', unit='number')\n",
    "dm_tech.add(tmp_2, col_label='tra_passenger_vehicle-waste', dim='Variables', unit='number')\n",
    "dm_tech.add(tmp_3, col_label='tra_passenger_new-vehicles', dim='Variables', unit='number')\n",
    "del tmp_1, tmp_2, tmp_3\n",
    "\n",
    "# compute fts tech split\n",
    "cols = {\n",
    "    'renewal-rate': 'tra_passenger_renewal-rate',\n",
    "    'tot': 'tra_passenger_vehicle-fleet',\n",
    "    'waste': 'tra_passenger_vehicle-waste',\n",
    "    'new': 'tra_passenger_new-vehicles',\n",
    "    'tech_tot': 'tra_passenger_technology-share_fleet',\n",
    "    'eff_tot': 'tra_passenger_veh-efficiency_fleet',\n",
    "    'eff_new': 'tra_passenger_veh-efficiency_new'\n",
    "}"
   ]
  },
  {
   "cell_type": "markdown",
   "id": "6d9ce31a",
   "metadata": {},
   "source": [
    "In `transport_module.py`, the function `compute_fts_tech_split(dm_mode, dm_tech, cols, years_setting)` is used in `passenger_fleet_energy()` to compute the split between fts and tech. Note that `compute_fts_tech_split()` does not return anything, it just runs the code. For this notebook, we have kept it as a function loaded from `transport_auxiliary_functions.py` (rather than unfolding it, as it was done for the rest of the code), as it will be used again in a bit in freight transport. For details on the operations, check `transport_auxiliary_functions.py`. Let's then just run the function to compute the split:"
   ]
  },
  {
   "cell_type": "code",
   "execution_count": null,
   "id": "9fbcf5a3",
   "metadata": {},
   "outputs": [],
   "source": [
    "compute_fts_tech_split(dm_mode, dm_tech, cols, years_setting)"
   ]
  },
  {
   "cell_type": "markdown",
   "id": "ada31c34",
   "metadata": {},
   "source": [
    "Let's continue on with the operations to get the energy demand from the passenger fleet:"
   ]
  },
  {
   "cell_type": "code",
   "execution_count": null,
   "id": "9bedf8fa",
   "metadata": {},
   "outputs": [],
   "source": [
    "# Extract passenger transport demand vkm for road and pkm for others, join and compute transport demand by technology\n",
    "dm_demand_km = dm_road.filter(selected_cols={'Variables': ['tra_passenger_transport-demand-vkm']})\n",
    "dm_demand_km_other = dm_other.filter(selected_cols={'Variables': ['tra_passenger_transport-demand']})\n",
    "dm_demand_km_other.units['tra_passenger_transport-demand'] = 'km'\n",
    "dm_demand_km.units['tra_passenger_transport-demand-vkm'] = 'km'\n",
    "dm_demand_km.rename_col('tra_passenger_transport-demand-vkm', 'tra_passenger_transport-demand', dim='Variables')\n",
    "dm_demand_km.append(dm_demand_km_other, dim='Categories1')\n",
    "dm_demand_km.sort(dim='Categories1')\n",
    "idx_t = dm_tech.index_all()\n",
    "tmp = dm_demand_km.array[:, :, 0, :, np.newaxis] \\\n",
    "      * dm_tech.array[:, :, idx_t['tra_passenger_technology-share_fleet'], ...]\n",
    "dm_tech.add(tmp, dim='Variables', col_label='tra_passenger_transport-demand', unit='km')\n",
    "del tmp, dm_demand_km, dm_demand_km_other\n",
    "\n",
    "# Compute energy consumption\n",
    "dm_tech.operation('tra_passenger_veh-efficiency_fleet', '*', 'tra_passenger_transport-demand',\n",
    "                  out_col='tra_passenger_energy-demand', unit='MJ')\n",
    "\n",
    "# Add e-fuel and bio-fuel to energy consumption\n",
    "dm_fuel = DM_other['fuels']\n",
    "mapping_cat = {'road': ['LDV', '2W', 'rail', 'metrotram', 'bus'], 'aviation': ['aviation']}\n",
    "dm_energy = dm_tech.filter({'Variables': ['tra_passenger_energy-demand']})"
   ]
  },
  {
   "cell_type": "markdown",
   "id": "33c7b1c8",
   "metadata": {},
   "source": [
    "In `transport_module.py`, the function `add_biofuel_efuel(dm_energy, dm_fuel, mapping_cat)` is used in `passenger_fleet_energy()` to add biofuel and efuel. Note that add_biofuel_efuel() does not return anything, it just runs the code. This function is also loaded from `transport_auxiliary_functions.py` (rather than explicitly unfolded). For details on the operations, check `transport_auxiliary_functions.py`. Let's then just run the function to add biofuel and efuel:"
   ]
  },
  {
   "cell_type": "code",
   "execution_count": null,
   "id": "e4a340f9",
   "metadata": {},
   "outputs": [],
   "source": [
    "add_biofuel_efuel(dm_energy, dm_fuel, mapping_cat)"
   ]
  },
  {
   "cell_type": "markdown",
   "id": "b1ce136e",
   "metadata": {},
   "source": [
    "Let's continue on with the operations to get the energy demand from the passenger fleet:"
   ]
  },
  {
   "cell_type": "code",
   "execution_count": null,
   "id": "3f756bd5",
   "metadata": {},
   "outputs": [],
   "source": [
    "# Deal with PHEV and electricity. For each mode of transport,\n",
    "# sum PHEV energy demand and multiply it by 0.1 to obtain a new category, the PHEV_elec\n",
    "dm_energy_phev = dm_energy.filter_w_regex({'Variables': 'tra_passenger_energy-demand', 'Categories2': 'PHEV.*'})\n",
    "PHEV_elec = 0.1 * np.nansum(dm_energy_phev.array, axis=-1)\n",
    "dm_energy.add(PHEV_elec, dim='Categories2', col_label='PHEV-elec')\n",
    "\n",
    "dm_energy.array = dm_energy.array*0.277778\n",
    "dm_energy.units['tra_passenger_energy-demand'] = 'TWh'\n",
    "\n",
    "dict1 = {'FCEV': 'FCV-hydrogen', 'BEV': 'BEV-elec', 'CEV': 'CEV-elec', 'metrotram_mt': 'metrotram_elec',\n",
    "         'aviation_ICEefuel': 'aviation_ejetfuel', 'aviation_ICEbio': 'aviation_biojetfuel',\n",
    "         'aviation_ICE': 'aviation_kerosene', 'PHEVbio': 'dieselbio', 'PHEVefuel': 'dieselefuel'}\n",
    "\n",
    "dm_energy_new_cat = dm_energy.flatten()\n",
    "\n",
    "# Rename the columns based on the substring mapping\n",
    "for substring, replacement in dict1.items():\n",
    "    dm_energy_new_cat.rename_col_regex(substring, replacement, dim='Categories1')\n",
    "dm_energy_new_cat.rename_col('2W_PHEV', '2W_diesel', dim='Categories1')\n",
    "\n",
    "grouping = ['dieselbio', 'gasolinebio', 'gasbio', 'gasoline', 'diesel', 'gas', 'dieselefuel', 'gasolineefuel',\n",
    "            'gasefuel', 'hydrogen', \"elec\", 'biojetfuel', 'kerosene', 'ejetfuel']\n",
    "dict2 = {'dieselbio': 'biodiesel', 'gasolinebio': 'bioethanol', 'gasbio': 'biogas', 'dieselefuel': 'ediesel',\n",
    "         'gasolineefuel': 'egasoline', 'gasefuel': 'egas', 'elec': 'electricity'}"
   ]
  },
  {
   "cell_type": "markdown",
   "id": "60f2c25a",
   "metadata": {},
   "source": [
    "In `transport_module.py`, the function `ename_and_group(dm_new_cat, groups, dict_end, grouped_var='tra_total-energy')` to rename and group the total energy demand for passenger fleet. This function is also loaded from `transport_auxiliary_functions.py` (rather than explicitly unfolded). For details on the operations, check `transport_auxiliary_functions.py`. Let's then just run the function to rename and group the total energy demand for passenger fleet:"
   ]
  },
  {
   "cell_type": "code",
   "execution_count": null,
   "id": "721b7756",
   "metadata": {},
   "outputs": [],
   "source": [
    "dm_tot_energy = rename_and_group(dm_energy_new_cat, grouping, dict2, grouped_var='tra_passenger_total-energy')"
   ]
  },
  {
   "cell_type": "markdown",
   "id": "f2419848",
   "metadata": {},
   "source": [
    "Let's continue on with the operations to get the energy demand from the passenger fleet:"
   ]
  },
  {
   "cell_type": "code",
   "execution_count": null,
   "id": "2e294e2a",
   "metadata": {},
   "outputs": [],
   "source": [
    "# Compute emission by fuel\n",
    "\n",
    "# Filter fuels for which we have emissions\n",
    "cdm_const.drop(col_label='marinefueloil', dim='Categories2')\n",
    "dm_energy_em = dm_tot_energy.filter({'Categories1': cdm_const.col_labels['Categories2']})\n",
    "\n",
    "# Sort categories to make sure they match\n",
    "dm_energy_em.sort(dim='Categories1')\n",
    "cdm_const.sort(dim='Categories2')\n",
    "idx_e = dm_energy_em.idx\n",
    "idx_c = cdm_const.idx\n",
    "\n",
    "# emissions = energy * emission-factor\n",
    "tmp = dm_energy_em.array[:, :, idx_e['tra_passenger_total-energy'], np.newaxis, :] \\\n",
    "      * cdm_const.array[np.newaxis, np.newaxis, idx_c['cp_tra_emission-factor'], :, :]\n",
    "tmp = np.moveaxis(tmp, -2, -1)\n",
    "\n",
    "# Save emissions by fuel in a datamatrix\n",
    "col_labels = dm_energy_em.col_labels.copy()\n",
    "col_labels['Variables'] = ['tra_passenger_emissions']\n",
    "col_labels['Categories2'] = cdm_const.col_labels['Categories1'].copy()  # GHG category\n",
    "unit = {'tra_passenger_emissions': 'Mt'}\n",
    "dm_emissions_by_fuel = DataMatrix(col_labels=col_labels, units=unit)\n",
    "dm_emissions_by_fuel.array = tmp[:, :, np.newaxis, :, :]  # The variable dimension was lost when doing nansum\n",
    "del dm_energy_em, tmp, col_labels, unit\n",
    "\n",
    "# Compute emissions by mode\n",
    "dm_energy_em = dm_energy_new_cat.filter({'Categories3': cdm_const.col_labels['Categories2']})\n",
    "dm_energy_em.sort(dim='Categories3')\n",
    "cdm_const.sort(dim='Categories2')\n",
    "idx_e = dm_energy_em.idx\n",
    "idx_c = cdm_const.idx\n",
    "tmp_en = np.nansum(dm_energy_em.array, axis=-2)  # remove technology split\n",
    "tmp = tmp_en[:, :, idx_e['tra_passenger_energy-demand'], :, np.newaxis, :] \\\n",
    "      * cdm_const.array[np.newaxis, np.newaxis, idx_c['cp_tra_emission-factor'], np.newaxis, :, :]\n",
    "tmp = np.nansum(tmp, axis=-1)  # Remove split by fuel\n",
    "col_labels = dm_energy_em.col_labels.copy()\n",
    "col_labels.pop('Categories3')\n",
    "col_labels['Categories2'] = cdm_const.col_labels['Categories1'].copy()  # GHG category\n",
    "col_labels['Variables'] = ['tra_passenger_emissions']\n",
    "unit = {'tra_passenger_emissions': 'Mt'}\n",
    "dm_emissions_by_mode = DataMatrix(col_labels=col_labels, units=unit)\n",
    "dm_emissions_by_mode.array = tmp[:, :, np.newaxis, :, :]  # The variable dimension was lost when doing nansum\n",
    "del tmp, unit, col_labels, idx_e, idx_c, tmp_en, dm_energy_em\n",
    "\n",
    "# Group emissions by GHG gas\n",
    "tmp = np.nansum(dm_emissions_by_mode.array, axis=-2)\n",
    "col_labels = dm_emissions_by_mode.col_labels.copy()\n",
    "col_labels['Categories1'] = col_labels['Categories2'].copy()\n",
    "col_labels.pop('Categories2')\n",
    "unit = dm_emissions_by_mode.units\n",
    "dm_emissions_by_GHG = DataMatrix(col_labels=col_labels, units=unit)\n",
    "dm_emissions_by_GHG.array = tmp[:, :, np.newaxis, :]\n",
    "del tmp, unit, col_labels\n",
    "\n",
    "tmp = np.nansum(dm_energy.array, axis=(-1,-2))\n",
    "col_labels = dm_energy.col_labels.copy()\n",
    "col_labels.pop('Categories1')\n",
    "col_labels.pop('Categories2')\n",
    "dm_no_cat = DataMatrix(col_labels=col_labels, units=dm_energy.units.copy())\n",
    "dm_no_cat.array = tmp[:, :, np.newaxis]\n",
    "\n",
    "dm_tech.rename_col('tra_passenger_technology-share_fleet', 'tra_passenger_technology-share-fleet', dim='Variables')\n",
    "\n",
    "idx = dm_tech.idx\n",
    "tmp = np.nansum(dm_tech.array[:, :, idx['tra_passenger_transport-demand'], :, :], axis=-1)\n",
    "dm_mode.add(tmp, dim='Variables', col_label='tra_passenger_transport-demand-by-mode', unit='pkm')\n",
    "\n",
    "# Compute passenger demand by mode\n",
    "idx = dm_energy.idx\n",
    "tmp = np.nansum(dm_energy.array[:, :, idx['tra_passenger_energy-demand'], :, :], axis=-1)\n",
    "dm_mode.add(tmp, dim='Variables', col_label='tra_passenger_energy-demand-by-mode', unit='TWh')\n",
    "\n",
    "# Compute CO2 emissions by mode\n",
    "idx = dm_emissions_by_mode.idx\n",
    "tmp = dm_emissions_by_mode.array[:, :, idx['tra_passenger_emissions'], :, idx['CO2']]\n",
    "dm_mode.add(tmp, dim='Variables', col_label='tra_passenger_emissions-by-mode_CO2', unit='Mt')\n",
    "\n",
    "dm_tot_energy.rename_col(col_in='tra_passenger_total-energy', col_out='tra_passenger_energy-demand-by-fuel', dim='Variables')"
   ]
  },
  {
   "cell_type": "code",
   "execution_count": null,
   "id": "69b6d2b7",
   "metadata": {},
   "outputs": [],
   "source": [
    "# rename objects\n",
    "dm_pass_mode, dm_pass_tech, dm_pass_fuel = dm_mode, dm_tech, dm_tot_energy"
   ]
  },
  {
   "cell_type": "markdown",
   "id": "94fb9124",
   "metadata": {},
   "source": [
    "## Freight <a class=\"anchor\" id=\"Freight\"></a>"
   ]
  },
  {
   "cell_type": "code",
   "execution_count": null,
   "id": "b9bd2cc7",
   "metadata": {},
   "outputs": [],
   "source": [
    "# make datamatrix for constants for passenger\n",
    "cdm_const_freight = cdm_const.copy()"
   ]
  },
  {
   "cell_type": "markdown",
   "id": "2d3dfc19",
   "metadata": {},
   "source": [
    "In `transport_module.py`, the function `freight_fleet_energy(DM_passenger, DM_lfs, DM_other, cdm_const, years_setting)` is used in `transport(lever_setting, years_setting)` to compute the energy demand for the freight fleet. Here we will use again the functions `compute_fts_tech_split(dm_mode, dm_tech, cols, years_setting)`, `add_biofuel_efuel(dm_energy, dm_fuel_shares, mapping_cat)` and `rename_and_group(dm_new_cat, groups, dict_end, grouped_var='tra_total-energy')` (the explanations are the same of the ones mentioned above)."
   ]
  },
  {
   "cell_type": "code",
   "execution_count": null,
   "id": "fd8d9d8e",
   "metadata": {},
   "outputs": [],
   "source": [
    "# FREIGHT\n",
    "dm_tkm = DM_freight['freight_demand']\n",
    "dm_mode = DM_freight['freight_modal_split']\n",
    "# From bn tkm to tkm by mode of transport\n",
    "tmp = dm_tkm.array[:, :, 0, np.newaxis] * 1e9 * dm_mode.array[:, :, 0, :]\n",
    "dm_mode.add(tmp, dim='Variables', col_label='tra_freight_transport-demand', unit='tkm')\n",
    "\n",
    "dm_mode_road = DM_freight['freight_mode_road']\n",
    "dm_mode_road.append(dm_mode.filter_w_regex(dict_dim_pattern={'Categories1': 'HDV.*'}), dim='Variables')\n",
    "dm_mode_road.operation('tra_freight_transport-demand', '/', 'tra_freight_load-factor',\n",
    "                       out_col='tra_freight_transport-demand-vkm', unit='vkm')\n",
    "dm_mode_road.operation('tra_freight_transport-demand-vkm', '/', 'tra_freight_utilisation-rate',\n",
    "                       out_col='tra_freight_vehicle-fleet', unit='number')\n",
    "dm_mode_road.operation('tra_freight_utilisation-rate', '/', 'tra_freight_lifetime',\n",
    "                       out_col='tra_freight_renewal-rate', unit='%')\n",
    "\n",
    "dm_mode_other = DM_freight['freight_mode_other']\n",
    "dm_mode_other.append(dm_mode.filter({'Categories1': ['IWW', 'marine', 'aviation', 'rail']}), dim='Variables')\n",
    "dm_mode_other.operation('tra_freight_transport-demand', '/', 'tra_freight_tkm-by-veh',\n",
    "                        out_col='tra_freight_vehicle-fleet', unit='number')\n",
    "\n",
    "# Compute vehicle waste and new vehicles for both road and other\n",
    "dm_other_tmp = dm_mode_other.filter_w_regex(dict_dim_pattern={'Variables': '.*vehicle-fleet|.*renewal-rate'})\n",
    "dm_road_tmp = dm_mode_road.filter_w_regex(dict_dim_pattern={'Variables': '.*vehicle-fleet|.*renewal-rate'})\n",
    "dm_mode_other.drop(dim='Variables', col_label='.*vehicle-fleet|.*renewal-rate')\n",
    "dm_mode_road.drop(dim='Variables', col_label='.*vehicle-fleet|.*renewal-rate')\n",
    "dm_road_tmp.append(dm_other_tmp, dim='Categories1')\n",
    "dm_mode.append(dm_road_tmp, dim='Variables')\n",
    "del dm_road_tmp, dm_other_tmp\n",
    "\n",
    "compute_stock(dm_mode, rr_regex='tra_freight_renewal-rate', tot_regex='tra_freight_vehicle-fleet',\n",
    "              waste_col='tra_freight_vehicle-waste', new_col='tra_freight_new-vehicles')\n",
    "\n",
    "# Compute fleet by technology type\n",
    "dm_tech = DM_freight['freight_tech']\n",
    "idx_t = dm_tech.index_all()\n",
    "idx_m = dm_mode.index_all()\n",
    "tmp_1 = dm_tech.array[:, :, idx_t['tra_freight_technology-share_fleet'], :, :] \\\n",
    "        * dm_mode.array[:, :, idx_m['tra_freight_vehicle-fleet'], :, np.newaxis]\n",
    "tmp_2 = dm_tech.array[:, :, idx_t['tra_freight_technology-share_fleet'], :, :] \\\n",
    "        * dm_mode.array[:, :, idx_m['tra_freight_vehicle-waste'], :, np.newaxis]\n",
    "tmp_3 = dm_tech.array[:, :, idx_t['tra_freight_technology-share_new'], :, :] \\\n",
    "        * dm_mode.array[:, :, idx_m['tra_freight_new-vehicles'], :, np.newaxis]\n",
    "dm_tech.add(tmp_1, col_label='tra_freight_vehicle-fleet', dim='Variables', unit='number')\n",
    "dm_tech.add(tmp_2, col_label='tra_freight_vehicle-waste', dim='Variables', unit='number')\n",
    "dm_tech.add(tmp_3, col_label='tra_freight_new-vehicles', dim='Variables', unit='number')\n",
    "del tmp_1, tmp_2, tmp_3\n",
    "#\n",
    "cols = {\n",
    "    'renewal-rate': 'tra_freight_renewal-rate',\n",
    "    'tot': 'tra_freight_vehicle-fleet',\n",
    "    'waste': 'tra_freight_vehicle-waste',\n",
    "    'new': 'tra_freight_new-vehicles',\n",
    "    'tech_tot': 'tra_freight_technology-share_fleet',\n",
    "    'eff_tot': 'tra_freight_vehicle-efficiency_fleet',\n",
    "    'eff_new': 'tra_freight_vehicle-efficiency_new'\n",
    "}"
   ]
  },
  {
   "cell_type": "code",
   "execution_count": null,
   "id": "03f8d8ba",
   "metadata": {},
   "outputs": [],
   "source": [
    "compute_fts_tech_split(dm_mode, dm_tech, cols, years_setting)"
   ]
  },
  {
   "cell_type": "code",
   "execution_count": null,
   "id": "e1bffbd6",
   "metadata": {},
   "outputs": [],
   "source": [
    "# Extract freight transport demand vkm for road and tkm for others, join and compute transport demand by technology\n",
    "dm_demand_km = dm_mode_road.filter(selected_cols={'Variables': ['tra_freight_transport-demand-vkm']})\n",
    "dm_demand_km_other = dm_mode_other.filter(selected_cols={'Variables': ['tra_freight_transport-demand']})\n",
    "dm_demand_km_other.units['tra_freight_transport-demand'] = 'km'\n",
    "dm_demand_km.units['tra_freight_transport-demand-vkm'] = 'km'\n",
    "dm_demand_km.rename_col('tra_freight_transport-demand-vkm', 'tra_freight_transport-demand', dim='Variables')\n",
    "dm_demand_km.append(dm_demand_km_other, dim='Categories1')\n",
    "dm_demand_km.sort(dim='Categories1')\n",
    "idx_t = dm_tech.index_all()\n",
    "tmp = dm_demand_km.array[:, :, 0, :, np.newaxis] \\\n",
    "      * dm_tech.array[:, :, idx_t['tra_freight_technology-share_fleet'], ...]\n",
    "dm_tech.add(tmp, dim='Variables', col_label='tra_freight_transport-demand', unit='km')\n",
    "del tmp, dm_demand_km, dm_demand_km_other\n",
    "# Compute energy consumption\n",
    "dm_tech.operation('tra_freight_vehicle-efficiency_fleet', '*', 'tra_freight_transport-demand',\n",
    "                  out_col='tra_freight_energy-demand', unit='MJ')\n",
    "\n",
    "# Compute biofuel and efuel and extract energy as standalone dm\n",
    "dm_fuel = DM_other['fuels']\n",
    "mapping_cat = {\n",
    "    'road': ['HDVH', 'HDVM', 'HDVL'],\n",
    "    'aviation': ['aviation'],\n",
    "    'rail': ['rail'],\n",
    "    'marine': ['IWW', 'marine']\n",
    "}\n",
    "dm_energy = dm_tech.filter({'Variables': ['tra_freight_energy-demand']})"
   ]
  },
  {
   "cell_type": "code",
   "execution_count": null,
   "id": "bde4867e",
   "metadata": {},
   "outputs": [],
   "source": [
    "add_biofuel_efuel(dm_energy, dm_fuel, mapping_cat)"
   ]
  },
  {
   "cell_type": "code",
   "execution_count": null,
   "id": "be47406d",
   "metadata": {},
   "outputs": [],
   "source": [
    "# Deal with PHEV and electricity. For each mode of transport,\n",
    "# sum PHEV energy demand and multiply it by 0.1 to obtain a new category, the PHEV_elec\n",
    "dm_energy_phev = dm_energy.filter_w_regex({'Variables': 'tra_freight_energy-demand', 'Categories2': 'PHEV.*'})\n",
    "PHEV_elec = 0.1 * np.nansum(dm_energy_phev.array, axis=-1)\n",
    "dm_energy.add(PHEV_elec, dim='Categories2', col_label='PHEV-elec')\n",
    "\n",
    "dm_energy.array = dm_energy.array*0.277778\n",
    "dm_energy.units['tra_freight_energy-demand'] = 'TWh'\n",
    "\n",
    "dict1 = {'FCEV': 'FCV-hydrogen', 'BEV': 'BEV-elec', 'CEV': 'CEV-elec',\n",
    "         'aviation_ICEefuel': 'aviation_ejetfuel', 'aviation_ICEbio': 'aviation_biojetfuel',\n",
    "         'aviation_ICE': 'aviation_kerosene'}\n",
    "\n",
    "dm_energy_new_cat = dm_energy.flatten()\n",
    "# Rename the columns based on the substring mapping\n",
    "for substring, replacement in dict1.items():\n",
    "    dm_energy_new_cat.rename_col_regex(substring, replacement, dim='Categories1')\n",
    "\n",
    "grouping = ['dieselbio', 'gasolinebio', 'gasbio', 'gasoline', 'diesel', 'gas', 'dieselefuel', 'gasolineefuel',\n",
    "            'gasefuel', 'hydrogen', \"elec\", \"ICEbio\", \"ICEefuel\", \"ICE\", 'biojetfuel', 'kerosene', 'ejetfuel']\n",
    "\n",
    "dict2 = {'dieselbio': 'biodiesel', 'gasolinebio': 'bioethanol', 'gasbio': 'biogas',\n",
    "         'dieselefuel': 'ediesel', 'gasolineefuel': 'egasoline', 'gasefuel': 'egas', 'elec': 'electricity',\n",
    "         'ICEbio': 'biomarinefueloil', 'ICEefuel': 'emarinefueloil', 'IWW_ICE': 'IWW_marinefueloil',\n",
    "         'marine_ICE': 'marine_marinefueloil'}"
   ]
  },
  {
   "cell_type": "code",
   "execution_count": null,
   "id": "ba36d08c",
   "metadata": {},
   "outputs": [],
   "source": [
    "dm_total_energy = rename_and_group(dm_energy_new_cat, grouping, dict2, grouped_var='tra_freight_total-energy')"
   ]
  },
  {
   "cell_type": "code",
   "execution_count": null,
   "id": "bacc07d4",
   "metadata": {},
   "outputs": [],
   "source": [
    "dm_total_energy.rename_col('ICE', 'marinefueloil', dim='Categories1')\n",
    "\n",
    "# Compute emission by fuel\n",
    "# Filter fuels for which we have emissions\n",
    "dm_energy_em = dm_total_energy.filter({'Categories1': cdm_const.col_labels['Categories2']})\n",
    "# Sort categories to make sure they match\n",
    "dm_energy_em.sort(dim='Categories1')\n",
    "cdm_const.sort(dim='Categories2')\n",
    "idx_e = dm_energy_em.idx\n",
    "idx_c = cdm_const.idx\n",
    "\n",
    "# emissions = energy * emission-factor\n",
    "tmp = dm_energy_em.array[:, :, idx_e['tra_freight_total-energy'], np.newaxis, :] \\\n",
    "      * cdm_const.array[np.newaxis, np.newaxis, idx_c['cp_tra_emission-factor'], :, :]\n",
    "tmp = np.moveaxis(tmp, -2, -1)\n",
    "\n",
    "# Save emissions by fuel in a datamatrix\n",
    "col_labels = dm_energy_em.col_labels.copy()\n",
    "col_labels['Variables'] = ['tra_freight_emissions']\n",
    "col_labels['Categories2'] = cdm_const.col_labels['Categories1'].copy()  # GHG category\n",
    "unit = {'tra_freight_emissions': 'Mt'}\n",
    "dm_emissions_by_fuel = DataMatrix(col_labels=col_labels, units=unit)\n",
    "dm_emissions_by_fuel.array = tmp[:, :, np.newaxis, :, :]  # The variable dimension was lost when doing nansum\n",
    "del dm_energy_em, tmp, col_labels, unit\n",
    "\n",
    "# Compute emissions by mode\n",
    "dm_energy_em = dm_energy_new_cat.filter({'Categories3': cdm_const.col_labels['Categories2']})\n",
    "dm_energy_em.sort(dim='Categories3')\n",
    "cdm_const.sort(dim='Categories2')\n",
    "idx_e = dm_energy_em.idx\n",
    "idx_c = cdm_const.idx\n",
    "tmp_en = np.nansum(dm_energy_em.array, axis=-2)  # remove technology split\n",
    "tmp = tmp_en[:, :, idx_e['tra_freight_energy-demand'], :, np.newaxis, :] \\\n",
    "      * cdm_const.array[np.newaxis, np.newaxis, idx_c['cp_tra_emission-factor'], np.newaxis, :, :]\n",
    "tmp = np.nansum(tmp, axis=-1)  # Remove split by fuel\n",
    "col_labels = dm_energy_em.col_labels.copy()\n",
    "col_labels.pop('Categories3')\n",
    "col_labels['Categories2'] = cdm_const.col_labels['Categories1'].copy()  # GHG category\n",
    "unit = {'tra_freight_emissions': 'Mt'}\n",
    "dm_emissions_by_mode = DataMatrix(col_labels=col_labels, units=unit)\n",
    "dm_emissions_by_mode.array = tmp[:, :, np.newaxis, :, :]  # The variable dimension was lost when doing nansum\n",
    "del tmp, unit, col_labels, idx_e, idx_c, tmp_en, dm_energy_em\n",
    "\n",
    "tmp = np.nansum(dm_emissions_by_mode.array, axis=-2)\n",
    "col_labels = dm_emissions_by_mode.col_labels.copy()\n",
    "col_labels['Categories1'] = col_labels['Categories2'].copy()\n",
    "col_labels.pop('Categories2')\n",
    "unit = dm_emissions_by_mode.units\n",
    "dm_emissions_by_GHG = DataMatrix(col_labels=col_labels, units=unit)\n",
    "dm_emissions_by_GHG.array = tmp[:, :, np.newaxis, :]\n",
    "del tmp, unit, col_labels\n",
    "\n",
    "tmp = np.nansum(dm_energy.array, axis=(-1, -2))\n",
    "col_labels = dm_energy.col_labels.copy()\n",
    "col_labels.pop('Categories1')\n",
    "col_labels.pop('Categories2')\n",
    "dm_no_cat = DataMatrix(col_labels=col_labels, units=dm_energy.units.copy())\n",
    "dm_no_cat.array = tmp[:, :, np.newaxis]\n",
    "\n",
    "dm_tech.rename_col('tra_freight_technology-share_fleet', 'tra_freight_techology-share-fleet', dim='Variables')\n",
    "\n",
    "# rename\n",
    "dm_fre_mode, dm_fre_tech, dm_fre_energy = dm_mode, dm_tech, dm_energy"
   ]
  },
  {
   "cell_type": "markdown",
   "id": "31aba840",
   "metadata": {},
   "source": [
    "## Output for TPE <a class=\"anchor\" id=\"Output-for-TPE\"></a>"
   ]
  },
  {
   "cell_type": "code",
   "execution_count": null,
   "id": "3c948537",
   "metadata": {},
   "outputs": [],
   "source": [
    "dm_keep_mode = dm_pass_mode.filter({'Variables': ['tra_passenger_transport-demand-by-mode',\n",
    "                                                  'tra_passenger_energy-demand-by-mode',\n",
    "                                                  'tra_passenger_emissions-by-mode_CO2']})\n",
    "dm_keep_tech = dm_pass_tech.filter({'Variables': ['tra_passenger_technology-share-fleet']})\n",
    "\n",
    "dm_keep_fuel = dm_pass_fuel\n",
    "\n",
    "# Turn datamatrix to dataframe (because converter and TPE work with dataframes)\n",
    "df = dm_keep_mode.write_df()\n",
    "df2 = dm_keep_tech.write_df()\n",
    "df = pd.concat([df, df2.drop(columns=['Country', 'Years'])], axis=1)\n",
    "df3 = dm_keep_fuel.write_df()\n",
    "df = pd.concat([df, df3.drop(columns=['Country', 'Years'])], axis=1)\n",
    "\n",
    "# Dummy variable\n",
    "# !FIXME: update this with actual total energy demand\n",
    "df['tra_energy-demand_total[TWh]'] = 1\n",
    "\n",
    "results_run = {'transport': df}"
   ]
  },
  {
   "cell_type": "code",
   "execution_count": null,
   "id": "f939ca51",
   "metadata": {},
   "outputs": [],
   "source": []
  }
 ],
 "metadata": {
  "kernelspec": {
   "display_name": "Python 3 (ipykernel)",
   "language": "python",
   "name": "python3"
  },
  "language_info": {
   "codemirror_mode": {
    "name": "ipython",
    "version": 3
   },
   "file_extension": ".py",
   "mimetype": "text/x-python",
   "name": "python",
   "nbconvert_exporter": "python",
   "pygments_lexer": "ipython3",
   "version": "3.9.13"
  }
 },
 "nbformat": 4,
 "nbformat_minor": 5
}
